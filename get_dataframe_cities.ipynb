{
 "cells": [
  {
   "cell_type": "code",
   "execution_count": 1,
   "id": "8bee2e85",
   "metadata": {},
   "outputs": [],
   "source": [
    "import pandas as pd\n",
    "from geonamescache import GeonamesCache\n",
    "import re\n",
    "#from unidecode import unidecode\n",
    "import warnings\n",
    "warnings.filterwarnings(\"ignore\", 'This pattern has match groups')"
   ]
  },
  {
   "cell_type": "markdown",
   "id": "swedish-background",
   "metadata": {},
   "source": [
    "# 1. Obtener dataset\n",
    "\n",
    "Empezamos cargando el archivo que contine las diferentes ofertas empleo. Estas ofertas se han obtenido de tres portales de empleo que demandan personas con competencias en Data Science y son los siguientes:\n",
    "* [reed.co.uk](https://www.reed.co.uk/jobs/data-science-jobs)\n",
    "* [itjobs.ca](https://www.itjobs.ca/en/search-jobs/?keywords=data+science&search=1)\n",
    "* [jobscube](https://jobcube.com/Data-Science-jobs)"
   ]
  },
  {
   "cell_type": "markdown",
   "id": "therapeutic-humidity",
   "metadata": {},
   "source": [
    "1. Cargar Data frame"
   ]
  },
  {
   "cell_type": "code",
   "execution_count": 58,
   "id": "statewide-fighter",
   "metadata": {},
   "outputs": [
    {
     "data": {
      "text/html": [
       "<div>\n",
       "<style scoped>\n",
       "    .dataframe tbody tr th:only-of-type {\n",
       "        vertical-align: middle;\n",
       "    }\n",
       "\n",
       "    .dataframe tbody tr th {\n",
       "        vertical-align: top;\n",
       "    }\n",
       "\n",
       "    .dataframe thead th {\n",
       "        text-align: right;\n",
       "    }\n",
       "</style>\n",
       "<table border=\"1\" class=\"dataframe\">\n",
       "  <thead>\n",
       "    <tr style=\"text-align: right;\">\n",
       "      <th></th>\n",
       "      <th>title</th>\n",
       "      <th>portal</th>\n",
       "    </tr>\n",
       "  </thead>\n",
       "  <tbody>\n",
       "    <tr>\n",
       "      <th>0</th>\n",
       "      <td>Data Science Manager job in New York NY</td>\n",
       "      <td>Jobcube</td>\n",
       "    </tr>\n",
       "    <tr>\n",
       "      <th>1</th>\n",
       "      <td>Director Data Science job in Seattle WA</td>\n",
       "      <td>Jobcube</td>\n",
       "    </tr>\n",
       "    <tr>\n",
       "      <th>2</th>\n",
       "      <td>Data Science Instructor job in San Antonio TX</td>\n",
       "      <td>Jobcube</td>\n",
       "    </tr>\n",
       "    <tr>\n",
       "      <th>3</th>\n",
       "      <td>Senior Manager, Sales Data Science and Analyti...</td>\n",
       "      <td>Jobcube</td>\n",
       "    </tr>\n",
       "    <tr>\n",
       "      <th>4</th>\n",
       "      <td>Data Scientist job in Aurora CO</td>\n",
       "      <td>Jobcube</td>\n",
       "    </tr>\n",
       "  </tbody>\n",
       "</table>\n",
       "</div>"
      ],
      "text/plain": [
       "                                               title    portal\n",
       "0           Data Science Manager job in New York NY    Jobcube\n",
       "1           Director Data Science job in Seattle WA    Jobcube\n",
       "2     Data Science Instructor job in San Antonio TX    Jobcube\n",
       "3  Senior Manager, Sales Data Science and Analyti...   Jobcube\n",
       "4                   Data Scientist job in Aurora CO    Jobcube"
      ]
     },
     "execution_count": 58,
     "metadata": {},
     "output_type": "execute_result"
    }
   ],
   "source": [
    "df=pd.read_csv('jobs_titles.csv')\n",
    "df.head()"
   ]
  },
  {
   "cell_type": "markdown",
   "id": "acute-outline",
   "metadata": {},
   "source": [
    "$$\n",
    "\\begin{aligned}\n",
    "\\begin{array}{|l|l|}\n",
    "\\hline\n",
    "\\textbf{title_html} & \\text{Ofertas de empleo para Data Science}\\\\\n",
    "\\hline\n",
    "\\textbf{body_html} & \\text{Nombre del portal empleo}\\\\\n",
    "\\hline\n",
    "\\end{array}\n",
    "\\end{aligned}\n",
    "$$"
   ]
  },
  {
   "cell_type": "markdown",
   "id": "animal-kinase",
   "metadata": {},
   "source": [
    "2. Utilizar la librería **geonamescache** para obtener una lista **cities** con el nombre de todas las ciudades del mundo  "
   ]
  },
  {
   "cell_type": "code",
   "execution_count": 93,
   "id": "economic-affair",
   "metadata": {},
   "outputs": [],
   "source": [
    "gc = GeonamesCache()\n",
    "cities = [city['name'] for city in gc.get_cities().values()]"
   ]
  },
  {
   "cell_type": "markdown",
   "id": "compound-spelling",
   "metadata": {},
   "source": [
    "* Inspeccionar el título df.title[2]"
   ]
  },
  {
   "cell_type": "code",
   "execution_count": 101,
   "id": "rational-spectacular",
   "metadata": {},
   "outputs": [
    {
     "data": {
      "text/plain": [
       "'Data Science Instructor job in San Antonio TX '"
      ]
     },
     "execution_count": 101,
     "metadata": {},
     "output_type": "execute_result"
    }
   ],
   "source": [
    "text_title=df.title[2]\n",
    "text_title"
   ]
  },
  {
   "cell_type": "markdown",
   "id": "vanilla-armenia",
   "metadata": {},
   "source": [
    "* Crear una función que haga una comparación entre la lista **cities** y **text_title**"
   ]
  },
  {
   "cell_type": "code",
   "execution_count": 102,
   "id": "placed-intermediate",
   "metadata": {},
   "outputs": [],
   "source": [
    "def get_city(text):\n",
    "    for ele in cities:\n",
    "        regex = re.compile(fr'\\b{ele}\\b')\n",
    "        if regex.search(text):\n",
    "            return ele\n",
    "    return None"
   ]
  },
  {
   "cell_type": "markdown",
   "id": "greater-three",
   "metadata": {},
   "source": [
    "* Evaluar **text_title0** en **get_city**"
   ]
  },
  {
   "cell_type": "code",
   "execution_count": 104,
   "id": "speaking-miniature",
   "metadata": {},
   "outputs": [
    {
     "data": {
      "text/plain": [
       "'San Antonio'"
      ]
     },
     "execution_count": 104,
     "metadata": {},
     "output_type": "execute_result"
    }
   ],
   "source": [
    "matchCity=get_city(text_title)\n",
    "matchCity"
   ]
  },
  {
   "cell_type": "markdown",
   "id": "basic-passing",
   "metadata": {},
   "source": [
    "Se puede ver que existe una coincidencia entre **cities** y **text_title** la cual es **San Antonio**"
   ]
  },
  {
   "cell_type": "markdown",
   "id": "rough-hayes",
   "metadata": {},
   "source": [
    "3. Extrer coincidencias entre **cities** y **df.title** y guardalas en una lista al que llamaremos **match_cities**"
   ]
  },
  {
   "cell_type": "code",
   "execution_count": 59,
   "id": "innocent-queen",
   "metadata": {},
   "outputs": [],
   "source": [
    "match_cities=[]\n",
    "for i in range(0, df.shape[0]):\n",
    "    text=df.title[i]\n",
    "    match_cities.append(get_city(text))"
   ]
  },
  {
   "cell_type": "markdown",
   "id": "strange-electricity",
   "metadata": {},
   "source": [
    "* Imprimir los diez primeros elementos de la lista"
   ]
  },
  {
   "cell_type": "code",
   "execution_count": 92,
   "id": "normal-anthony",
   "metadata": {},
   "outputs": [
    {
     "data": {
      "text/plain": [
       "['York',\n",
       " 'Seattle',\n",
       " 'San Antonio',\n",
       " 'Boston',\n",
       " 'Aurora',\n",
       " 'Suitland',\n",
       " 'Augusta',\n",
       " 'Federal',\n",
       " None,\n",
       " None]"
      ]
     },
     "execution_count": 92,
     "metadata": {},
     "output_type": "execute_result"
    }
   ],
   "source": [
    "match_cities[0:10]"
   ]
  },
  {
   "cell_type": "markdown",
   "id": "suited-research",
   "metadata": {},
   "source": [
    "4. Obtener dataframe cuya columna contenga los nombres de las ciudades extraidas de la columna **df['title']**"
   ]
  },
  {
   "cell_type": "code",
   "execution_count": 105,
   "id": "least-lawsuit",
   "metadata": {},
   "outputs": [],
   "source": [
    "data = {'Titles': df.title.tolist(),'Cities': match_cities}\n",
    "df_cities = pd.DataFrame(data)"
   ]
  },
  {
   "cell_type": "code",
   "execution_count": 106,
   "id": "excellent-chess",
   "metadata": {},
   "outputs": [
    {
     "data": {
      "text/html": [
       "<div>\n",
       "<style scoped>\n",
       "    .dataframe tbody tr th:only-of-type {\n",
       "        vertical-align: middle;\n",
       "    }\n",
       "\n",
       "    .dataframe tbody tr th {\n",
       "        vertical-align: top;\n",
       "    }\n",
       "\n",
       "    .dataframe thead th {\n",
       "        text-align: right;\n",
       "    }\n",
       "</style>\n",
       "<table border=\"1\" class=\"dataframe\">\n",
       "  <thead>\n",
       "    <tr style=\"text-align: right;\">\n",
       "      <th></th>\n",
       "      <th>Titles</th>\n",
       "      <th>Cities</th>\n",
       "    </tr>\n",
       "  </thead>\n",
       "  <tbody>\n",
       "    <tr>\n",
       "      <th>0</th>\n",
       "      <td>Data Science Manager job in New York NY</td>\n",
       "      <td>York</td>\n",
       "    </tr>\n",
       "    <tr>\n",
       "      <th>1</th>\n",
       "      <td>Director Data Science job in Seattle WA</td>\n",
       "      <td>Seattle</td>\n",
       "    </tr>\n",
       "    <tr>\n",
       "      <th>2</th>\n",
       "      <td>Data Science Instructor job in San Antonio TX</td>\n",
       "      <td>San Antonio</td>\n",
       "    </tr>\n",
       "    <tr>\n",
       "      <th>3</th>\n",
       "      <td>Senior Manager, Sales Data Science and Analyti...</td>\n",
       "      <td>Boston</td>\n",
       "    </tr>\n",
       "    <tr>\n",
       "      <th>4</th>\n",
       "      <td>Data Scientist job in Aurora CO</td>\n",
       "      <td>Aurora</td>\n",
       "    </tr>\n",
       "    <tr>\n",
       "      <th>...</th>\n",
       "      <td>...</td>\n",
       "      <td>...</td>\n",
       "    </tr>\n",
       "    <tr>\n",
       "      <th>864</th>\n",
       "      <td>Junior and Mid level Data Scientists Bristol</td>\n",
       "      <td>Bristol</td>\n",
       "    </tr>\n",
       "    <tr>\n",
       "      <th>865</th>\n",
       "      <td>Data Science Consultant Tadworth</td>\n",
       "      <td>None</td>\n",
       "    </tr>\n",
       "    <tr>\n",
       "      <th>866</th>\n",
       "      <td>Senior Financial Data Scientist- Global Hedge ...</td>\n",
       "      <td>London</td>\n",
       "    </tr>\n",
       "    <tr>\n",
       "      <th>867</th>\n",
       "      <td>Senior / Lead Data Scientist City of London</td>\n",
       "      <td>London</td>\n",
       "    </tr>\n",
       "    <tr>\n",
       "      <th>868</th>\n",
       "      <td>Senior Data Scientist, Renewables Earley</td>\n",
       "      <td>None</td>\n",
       "    </tr>\n",
       "  </tbody>\n",
       "</table>\n",
       "<p>869 rows × 2 columns</p>\n",
       "</div>"
      ],
      "text/plain": [
       "                                                Titles       Cities\n",
       "0             Data Science Manager job in New York NY          York\n",
       "1             Director Data Science job in Seattle WA       Seattle\n",
       "2       Data Science Instructor job in San Antonio TX   San Antonio\n",
       "3    Senior Manager, Sales Data Science and Analyti...       Boston\n",
       "4                     Data Scientist job in Aurora CO        Aurora\n",
       "..                                                 ...          ...\n",
       "864      Junior and Mid level Data Scientists Bristol       Bristol\n",
       "865                  Data Science Consultant Tadworth          None\n",
       "866  Senior Financial Data Scientist- Global Hedge ...       London\n",
       "867       Senior / Lead Data Scientist City of London        London\n",
       "868          Senior Data Scientist, Renewables Earley          None\n",
       "\n",
       "[869 rows x 2 columns]"
      ]
     },
     "execution_count": 106,
     "metadata": {},
     "output_type": "execute_result"
    }
   ],
   "source": [
    "df_cities"
   ]
  },
  {
   "cell_type": "markdown",
   "id": "australian-chaos",
   "metadata": {},
   "source": [
    "5. eliminar los elementos None"
   ]
  },
  {
   "cell_type": "code",
   "execution_count": 109,
   "id": "random-blair",
   "metadata": {},
   "outputs": [
    {
     "data": {
      "text/plain": [
       "0"
      ]
     },
     "execution_count": 109,
     "metadata": {},
     "output_type": "execute_result"
    }
   ],
   "source": [
    "df_cities['Cities'].isnull().sum()"
   ]
  },
  {
   "cell_type": "code",
   "execution_count": 110,
   "id": "asian-tennis",
   "metadata": {},
   "outputs": [
    {
     "data": {
      "text/plain": [
       "0"
      ]
     },
     "execution_count": 110,
     "metadata": {},
     "output_type": "execute_result"
    }
   ],
   "source": [
    "df_cities.dropna(inplace=True)\n",
    "df_cities['Cities'].isnull().sum()"
   ]
  },
  {
   "cell_type": "markdown",
   "id": "beneficial-dubai",
   "metadata": {},
   "source": [
    "3. Exporta el nuevo data frame"
   ]
  },
  {
   "cell_type": "code",
   "execution_count": 111,
   "id": "generic-gardening",
   "metadata": {},
   "outputs": [],
   "source": [
    "df_cities.to_csv('jobs_cities.csv',index=False)"
   ]
  },
  {
   "cell_type": "code",
   "execution_count": null,
   "id": "removable-physics",
   "metadata": {},
   "outputs": [],
   "source": []
  }
 ],
 "metadata": {
  "kernelspec": {
   "display_name": "Python 3",
   "language": "python",
   "name": "python3"
  },
  "language_info": {
   "codemirror_mode": {
    "name": "ipython",
    "version": 3
   },
   "file_extension": ".py",
   "mimetype": "text/x-python",
   "name": "python",
   "nbconvert_exporter": "python",
   "pygments_lexer": "ipython3",
   "version": "3.9.2"
  }
 },
 "nbformat": 4,
 "nbformat_minor": 5
}
